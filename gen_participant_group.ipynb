{
 "cells": [
  {
   "cell_type": "code",
   "execution_count": null,
   "metadata": {},
   "outputs": [],
   "source": [
    "!pip install xlsxwriter "
   ]
  },
  {
   "cell_type": "code",
   "execution_count": null,
   "metadata": {},
   "outputs": [],
   "source": [
    "# import xlsxwriter module\n",
    "import xlsxwriter\n",
    "import random\n",
    "\n",
    "# Some data we want to write to the worksheet.\n",
    "town_name = [\"Town01\", \"Town02\", \"Town03\", \"Town04\", \"Town05\", \"Town06\", \"Town07\"]\n",
    "weather_name = [\"ClearNight\", \"ClearNoon\", \"ClearSunset\", \"FogMorning\", \"HardRainSunset\", \"WetCloudyNoon\", \"WetSunset\"]\n",
    "dir=\"conditions/groups/\"\n",
    "\n",
    "participant_num = 60\n",
    "for index in range(participant_num):\n",
    "    filename_participant = \"{id:02d}.xlsx\".format(id=index)\n",
    "    \n",
    "    workbook = xlsxwriter.Workbook(dir+filename_participant)\n",
    "    worksheet = workbook.add_worksheet()\n",
    " \n",
    "    random_weather = random.shuffle(weather_name)\n",
    "    \n",
    "    # write town weather name\n",
    "    worksheet.write(0, 0, \"town_weather_name\")\n",
    "    \n",
    "    for i in range(7) :\n",
    "        item = town_name[i]+\"_\"+weather_name[i]\n",
    "        worksheet.write(i+1, 0, item)\n",
    "    \n",
    "    workbook.close()"
   ]
  },
  {
   "cell_type": "code",
   "execution_count": null,
   "metadata": {},
   "outputs": [],
   "source": [
    "for x in range(0, 8):\n",
    "    print(x)"
   ]
  },
  {
   "cell_type": "code",
   "execution_count": null,
   "metadata": {},
   "outputs": [],
   "source": []
  }
 ],
 "metadata": {
  "interpreter": {
   "hash": "aee8b7b246df8f9039afb4144a1f6fd8d2ca17a180786b69acc140d282b71a49"
  },
  "kernelspec": {
   "display_name": "Python 3.9.6 64-bit",
   "name": "python3"
  },
  "language_info": {
   "codemirror_mode": {
    "name": "ipython",
    "version": 3
   },
   "file_extension": ".py",
   "mimetype": "text/x-python",
   "name": "python",
   "nbconvert_exporter": "python",
   "pygments_lexer": "ipython3",
   "version": "3.9.6"
  },
  "orig_nbformat": 4
 },
 "nbformat": 4,
 "nbformat_minor": 2
}
