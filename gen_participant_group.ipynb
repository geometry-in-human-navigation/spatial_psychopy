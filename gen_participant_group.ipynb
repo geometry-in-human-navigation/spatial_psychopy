{
 "cells": [
  {
   "cell_type": "code",
   "execution_count": 1,
   "metadata": {},
   "outputs": [
    {
     "name": "stdout",
     "output_type": "stream",
     "text": [
      "\u001b[33mDEPRECATION: Configuring installation scheme with distutils config files is deprecated and will no longer work in the near future. If you are using a Homebrew or Linuxbrew Python, please see discussion at https://github.com/Homebrew/homebrew-core/issues/76621\u001b[0m\n",
      "Requirement already satisfied: xlsxwriter in /usr/local/lib/python3.9/site-packages (3.0.1)\n",
      "\u001b[33mWARNING: You are using pip version 21.2.4; however, version 21.3.1 is available.\n",
      "You should consider upgrading via the '/usr/local/opt/python@3.9/bin/python3.9 -m pip install --upgrade pip' command.\u001b[0m\n"
     ]
    }
   ],
   "source": [
    "!pip install xlsxwriter "
   ]
  },
  {
   "cell_type": "code",
   "execution_count": 2,
   "metadata": {},
   "outputs": [],
   "source": [
    "# import xlsxwriter module\n",
    "import xlsxwriter\n",
    "import random\n",
    "\n",
    "# Some data we want to write to the worksheet.\n",
    "town_name = [\"Town01\", \"Town02\", \"Town03\", \"Town04\", \"Town05\", \"Town06\", \"Town07\"]\n",
    "weather_name = [\"ClearNight\", \"ClearNoon\", \"ClearSunset\", \"FogMorning\", \"HardRainSunset\", \"WetCloudyNoon\", \"WetSunset\"]\n",
    "dir=\"conditions/groups/\"\n",
    "\n",
    "participant_num = 7\n",
    "for index in range(participant_num):\n",
    "    filename_participant = \"{id:02d}.xlsx\".format(id=index)\n",
    "    \n",
    "    workbook = xlsxwriter.Workbook(dir+filename_participant)\n",
    "    worksheet = workbook.add_worksheet()\n",
    " \n",
    "    # random_weather = random.shuffle(weather_name)\n",
    "    \n",
    "    # write town weather name\n",
    "    worksheet.write(0, 0, \"town_weather_name\")\n",
    "    \n",
    "    for i in range(7) :\n",
    "        item = town_name[index]+\"_\"+weather_name[i]\n",
    "        worksheet.write(i+1, 0, item)\n",
    "    \n",
    "    workbook.close()"
   ]
  },
  {
   "cell_type": "code",
   "execution_count": null,
   "metadata": {},
   "outputs": [],
   "source": []
  },
  {
   "cell_type": "code",
   "execution_count": null,
   "metadata": {},
   "outputs": [],
   "source": []
  }
 ],
 "metadata": {
  "interpreter": {
   "hash": "aee8b7b246df8f9039afb4144a1f6fd8d2ca17a180786b69acc140d282b71a49"
  },
  "kernelspec": {
   "display_name": "Python 3.9.6 64-bit",
   "name": "python3"
  },
  "language_info": {
   "codemirror_mode": {
    "name": "ipython",
    "version": 3
   },
   "file_extension": ".py",
   "mimetype": "text/x-python",
   "name": "python",
   "nbconvert_exporter": "python",
   "pygments_lexer": "ipython3",
   "version": "3.9.7"
  },
  "orig_nbformat": 4
 },
 "nbformat": 4,
 "nbformat_minor": 2
}
